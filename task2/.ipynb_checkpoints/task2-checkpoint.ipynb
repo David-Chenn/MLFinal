{
 "cells": [
  {
   "cell_type": "code",
   "execution_count": 2,
   "metadata": {},
   "outputs": [],
   "source": [
    "import numpy as np\n",
    "import pandas as pd\n",
    "from sklearn.model_selection import train_test_split\n",
    "from sklearn.preprocessing import scale,Normalizer,OneHotEncoder\n",
    "from sklearn.preprocessing import normalize\n",
    "from keras.models import Sequential,load_model\n",
    "from keras.layers import Dense, Dropout, Flatten,BatchNormalization\n",
    "from keras.layers import Conv2D, MaxPooling2D\n",
    "import keras.optimizers "
   ]
  },
  {
   "cell_type": "code",
   "execution_count": 3,
   "metadata": {},
   "outputs": [],
   "source": [
    "train = pd.read_csv('task2.training.csv')"
   ]
  },
  {
   "cell_type": "code",
   "execution_count": 4,
   "metadata": {},
   "outputs": [],
   "source": [
    "test = pd.read_csv('task2.test.withOUT.answers.csv')"
   ]
  },
  {
   "cell_type": "code",
   "execution_count": 5,
   "metadata": {},
   "outputs": [],
   "source": [
    "train_answer = train['class']"
   ]
  },
  {
   "cell_type": "code",
   "execution_count": 6,
   "metadata": {},
   "outputs": [
    {
     "data": {
      "text/plain": [
       "0       B\n",
       "1       F\n",
       "2       E\n",
       "3       E\n",
       "4       C\n",
       "       ..\n",
       "9995    A\n",
       "9996    D\n",
       "9997    D\n",
       "9998    C\n",
       "9999    D\n",
       "Name: class, Length: 10000, dtype: object"
      ]
     },
     "execution_count": 6,
     "metadata": {},
     "output_type": "execute_result"
    }
   ],
   "source": [
    "train['class']"
   ]
  },
  {
   "cell_type": "code",
   "execution_count": 7,
   "metadata": {},
   "outputs": [],
   "source": [
    "train = train.drop(columns = 'class')"
   ]
  },
  {
   "cell_type": "code",
   "execution_count": 8,
   "metadata": {
    "scrolled": true
   },
   "outputs": [],
   "source": [
    "train = np.array(train,dtype=np.float32)\n",
    "test = np.array(test,dtype=np.float32)"
   ]
  },
  {
   "cell_type": "code",
   "execution_count": 9,
   "metadata": {},
   "outputs": [],
   "source": [
    "normalizer = Normalizer().fit(train) \n",
    "train = normalizer.transform(train)"
   ]
  },
  {
   "cell_type": "code",
   "execution_count": 10,
   "metadata": {},
   "outputs": [],
   "source": [
    "ans = pd.get_dummies(train_answer)"
   ]
  },
  {
   "cell_type": "code",
   "execution_count": 11,
   "metadata": {},
   "outputs": [],
   "source": [
    "ans = np.array(ans)"
   ]
  },
  {
   "cell_type": "code",
   "execution_count": 12,
   "metadata": {},
   "outputs": [],
   "source": [
    "train_feature_len = np.shape(train)[0]"
   ]
  },
  {
   "cell_type": "code",
   "execution_count": 13,
   "metadata": {},
   "outputs": [],
   "source": [
    "train_x,val_x,train_y,val_y = train_test_split(train,ans,test_size=0.3,random_state=44)"
   ]
  },
  {
   "cell_type": "code",
   "execution_count": null,
   "metadata": {},
   "outputs": [],
   "source": [
    "np.shape(train_x)"
   ]
  },
  {
   "cell_type": "code",
   "execution_count": 17,
   "metadata": {},
   "outputs": [],
   "source": [
    "lr= 1e-2\n",
    "opti =keras.optimizers.Adadelta(learning_rate=lr)\n",
    "model3 = Sequential()  \n",
    "model3.add(Dense(train_feature_len*1, activation = 'tanh',use_bias=True))\n",
    "#model3.add(BatchNormalization())\n",
    "model3.add(Dense(train_feature_len*1, activation = 'tanh',use_bias=True))\n",
    "#model3.add(BatchNormalization())\n",
    "model3.add(Dense(train_feature_len*1, activation = 'tanh',use_bias=True))\n",
    "#model3.add(BatchNormalization())\n",
    "model3.add(Dense(train_feature_len*1, activation = 'tanh',use_bias=True))\n",
    "#model3.add(BatchNormalization())\n",
    "model3.add(Dense(train_feature_len*1, activation = 'tanh',use_bias=True))\n",
    "#model3.add(BatchNormalization())\n",
    "model3.add(Dense(6, activation = 'softmax',use_bias=True))\n",
    "para3 = model3.compile(optimizer = opti, loss = 'binary_crossentropy', metrics = ['accuracy'])"
   ]
  },
  {
   "cell_type": "code",
   "execution_count": null,
   "metadata": {},
   "outputs": [
    {
     "name": "stdout",
     "output_type": "stream",
     "text": [
      "Training ------------\n",
      "Epoch 1/15\n",
      "  2/219 [..............................] - ETA: 42:05 - loss: 0.4512 - accuracy: 0.1719"
     ]
    }
   ],
   "source": [
    "print('Training ------------')\n",
    "model3.fit(train_x, train_y, epochs=15) #,batch_size=512)"
   ]
  },
  {
   "cell_type": "code",
   "execution_count": null,
   "metadata": {},
   "outputs": [],
   "source": [
    "np.shape(ans)"
   ]
  },
  {
   "cell_type": "code",
   "execution_count": null,
   "metadata": {},
   "outputs": [],
   "source": []
  }
 ],
 "metadata": {
  "kernelspec": {
   "display_name": "Python 3",
   "language": "python",
   "name": "python3"
  },
  "language_info": {
   "codemirror_mode": {
    "name": "ipython",
    "version": 3
   },
   "file_extension": ".py",
   "mimetype": "text/x-python",
   "name": "python",
   "nbconvert_exporter": "python",
   "pygments_lexer": "ipython3",
   "version": "3.7.4"
  }
 },
 "nbformat": 4,
 "nbformat_minor": 2
}
