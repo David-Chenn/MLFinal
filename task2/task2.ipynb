{
 "cells": [
  {
   "cell_type": "code",
   "execution_count": 30,
   "metadata": {},
   "outputs": [],
   "source": [
    "import numpy as np\n",
    "import pandas as pd\n",
    "from sklearn.model_selection import train_test_split\n",
    "from sklearn.preprocessing import scale,Normalizer,OneHotEncoder\n",
    "from sklearn.preprocessing import normalize\n",
    "from keras.models import Sequential,load_model\n",
    "from keras.layers import Dense, Dropout, Flatten,BatchNormalization\n",
    "from keras.layers import Conv2D, MaxPooling2D\n",
    "import keras.optimizers "
   ]
  },
  {
   "cell_type": "code",
   "execution_count": 31,
   "metadata": {},
   "outputs": [],
   "source": [
    "train = pd.read_csv('task2.training.csv')"
   ]
  },
  {
   "cell_type": "code",
   "execution_count": 32,
   "metadata": {},
   "outputs": [],
   "source": [
    "test = pd.read_csv('task2.test.withOUT.answers.csv')"
   ]
  },
  {
   "cell_type": "code",
   "execution_count": 33,
   "metadata": {},
   "outputs": [],
   "source": [
    "train_answer = train['class']"
   ]
  },
  {
   "cell_type": "code",
   "execution_count": 34,
   "metadata": {},
   "outputs": [
    {
     "data": {
      "text/plain": [
       "0       B\n",
       "1       F\n",
       "2       E\n",
       "3       E\n",
       "4       C\n",
       "       ..\n",
       "9995    A\n",
       "9996    D\n",
       "9997    D\n",
       "9998    C\n",
       "9999    D\n",
       "Name: class, Length: 10000, dtype: object"
      ]
     },
     "execution_count": 34,
     "metadata": {},
     "output_type": "execute_result"
    }
   ],
   "source": [
    "train['class']"
   ]
  },
  {
   "cell_type": "code",
   "execution_count": 35,
   "metadata": {},
   "outputs": [],
   "source": [
    "train = train.drop(columns = 'class')"
   ]
  },
  {
   "cell_type": "code",
   "execution_count": 36,
   "metadata": {
    "scrolled": true
   },
   "outputs": [],
   "source": [
    "train = np.array(train,dtype=np.float32)\n",
    "test = np.array(test,dtype=np.float32)"
   ]
  },
  {
   "cell_type": "code",
   "execution_count": 37,
   "metadata": {},
   "outputs": [],
   "source": [
    "meanlist=[]\n",
    "stdlist =[]"
   ]
  },
  {
   "cell_type": "code",
   "execution_count": 38,
   "metadata": {},
   "outputs": [],
   "source": [
    "for i in range(np.shape(train)[1]):\n",
    "    tmp = np.sum(train[:,i])\n",
    "    mean = tmp/np.shape(train)[0]\n",
    "    meanlist.append(mean)\n",
    "    std = np.std(train[:,i])\n",
    "    stdlist.append(std)\n",
    "    for j in range(np.shape(train)[0]):\n",
    "        train[j][i] = (train[j][i]-mean)/std"
   ]
  },
  {
   "cell_type": "code",
   "execution_count": 39,
   "metadata": {},
   "outputs": [
    {
     "data": {
      "text/plain": [
       "[13.92298125,\n",
       " 10.380321875,\n",
       " 14.45909375,\n",
       " 10.558634375,\n",
       " 10.66776875,\n",
       " 2.5094435546875,\n",
       " 3.75401640625,\n",
       " 14.0880421875,\n",
       " 10.3049015625,\n",
       " 14.5248953125,\n",
       " -0.920540625,\n",
       " -2.55181328125,\n",
       " 5.046812109375,\n",
       " 1.48286728515625,\n",
       " -0.562686181640625,\n",
       " 4.48297578125]"
      ]
     },
     "execution_count": 39,
     "metadata": {},
     "output_type": "execute_result"
    }
   ],
   "source": [
    "meanlist"
   ]
  },
  {
   "cell_type": "code",
   "execution_count": 40,
   "metadata": {},
   "outputs": [
    {
     "data": {
      "text/plain": [
       "[6.874074,\n",
       " 2.9697495,\n",
       " 5.2536054,\n",
       " 5.018302,\n",
       " 4.9927273,\n",
       " 1.0386636,\n",
       " 1.5589948,\n",
       " 6.9650598,\n",
       " 2.9687245,\n",
       " 5.297438,\n",
       " 8.567429,\n",
       " 6.0524693,\n",
       " 5.4038343,\n",
       " 0.8848061,\n",
       " 3.5752804,\n",
       " 3.618423]"
      ]
     },
     "execution_count": 40,
     "metadata": {},
     "output_type": "execute_result"
    }
   ],
   "source": [
    "stdlist"
   ]
  },
  {
   "cell_type": "code",
   "execution_count": 41,
   "metadata": {},
   "outputs": [],
   "source": [
    "# normalizer = Normalizer().fit(train) \n",
    "# train = normalizer.transform(train)"
   ]
  },
  {
   "cell_type": "code",
   "execution_count": 42,
   "metadata": {},
   "outputs": [
    {
     "data": {
      "text/plain": [
       "(10000,)"
      ]
     },
     "execution_count": 42,
     "metadata": {},
     "output_type": "execute_result"
    }
   ],
   "source": [
    "np.shape(train[:,1])"
   ]
  },
  {
   "cell_type": "code",
   "execution_count": 43,
   "metadata": {},
   "outputs": [],
   "source": [
    "ans = pd.get_dummies(train_answer)"
   ]
  },
  {
   "cell_type": "code",
   "execution_count": 44,
   "metadata": {},
   "outputs": [],
   "source": [
    "ans = np.array(ans)"
   ]
  },
  {
   "cell_type": "code",
   "execution_count": 45,
   "metadata": {},
   "outputs": [],
   "source": [
    "train_feature_len = np.shape(train)[1]"
   ]
  },
  {
   "cell_type": "code",
   "execution_count": 46,
   "metadata": {},
   "outputs": [],
   "source": [
    "train_x,val_x,train_y,val_y = train_test_split(train,ans,test_size=0.3,random_state=44)"
   ]
  },
  {
   "cell_type": "code",
   "execution_count": 47,
   "metadata": {},
   "outputs": [
    {
     "data": {
      "text/plain": [
       "(7000, 16)"
      ]
     },
     "execution_count": 47,
     "metadata": {},
     "output_type": "execute_result"
    }
   ],
   "source": [
    "np.shape(train_x)"
   ]
  },
  {
   "cell_type": "code",
   "execution_count": 19,
   "metadata": {},
   "outputs": [],
   "source": [
    "from keras import backend as K\n",
    "def recall_m(y_true, y_pred):\n",
    "    true_positives = K.sum(K.round(K.clip(y_true * y_pred, 0, 1)))\n",
    "    possible_positives = K.sum(K.round(K.clip(y_true, 0, 1)))\n",
    "    recall = true_positives / (possible_positives + K.epsilon())\n",
    "    return recall\n",
    "\n",
    "def precision_m(y_true, y_pred):\n",
    "    true_positives = K.sum(K.round(K.clip(y_true * y_pred, 0, 1)))\n",
    "    predicted_positives = K.sum(K.round(K.clip(y_pred, 0, 1)))\n",
    "    precision = true_positives / (predicted_positives + K.epsilon())\n",
    "    return precision\n",
    "def f1_m(y_true, y_pred):\n",
    "    precision = precision_m(y_true, y_pred)\n",
    "    recall = recall_m(y_true, y_pred)\n",
    "    return 2*((precision*recall)/(precision+recall+K.epsilon()))"
   ]
  },
  {
   "cell_type": "code",
   "execution_count": 65,
   "metadata": {},
   "outputs": [],
   "source": [
    "lr= 1e-2\n",
    "opti =keras.optimizers.Adam(learning_rate=lr)\n",
    "model3 = Sequential()  \n",
    "model3.add(Dense(train_feature_len*1, activation = 'relu',use_bias=True))\n",
    "#model3.add(BatchNormalization())\n",
    "model3.add(Dense(train_feature_len*2, activation = 'relu',use_bias=True))\n",
    "#model3.add(BatchNormalization())\n",
    "model3.add(Dense(train_feature_len*3, activation = 'relu',use_bias=True))\n",
    "#model3.add(BatchNormalization())\n",
    "model3.add(Dense(train_feature_len*3, activation = 'relu',use_bias=True))\n",
    "#model3.add(BatchNormalization())\n",
    "model3.add(Dense(train_feature_len*1, activation = 'relu',use_bias=True))\n",
    "#model3.add(BatchNormalization())\n",
    "model3.add(Dense(6, activation = 'softmax',use_bias=True))\n",
    "para3 = model3.compile(optimizer = opti, loss = 'categorical_crossentropy', metrics = ['acc',f1_m,precision_m, recall_m])\n"
   ]
  },
  {
   "cell_type": "code",
   "execution_count": 66,
   "metadata": {},
   "outputs": [],
   "source": [
    "# model3=load_model('ML_task2.h5')"
   ]
  },
  {
   "cell_type": "code",
   "execution_count": 362,
   "metadata": {
    "scrolled": true
   },
   "outputs": [
    {
     "name": "stdout",
     "output_type": "stream",
     "text": [
      "Training ------------\n",
      "55/55 [==============================] - 0s 1ms/step - loss: 0.0455 - acc: 0.9810 - f1_m: 0.9810 - precision_m: 0.9810 - recall_m: 0.9810\n"
     ]
    },
    {
     "data": {
      "text/plain": [
       "<tensorflow.python.keras.callbacks.History at 0x7ff8fc30d690>"
      ]
     },
     "execution_count": 362,
     "metadata": {},
     "output_type": "execute_result"
    }
   ],
   "source": [
    "print('Training ------------')\n",
    "model3.fit(train_x, train_y, epochs=1,batch_size=128) #3500best"
   ]
  },
  {
   "cell_type": "code",
   "execution_count": 363,
   "metadata": {},
   "outputs": [],
   "source": [
    "# model3.save('ML_task2.h5')"
   ]
  },
  {
   "cell_type": "code",
   "execution_count": 364,
   "metadata": {
    "scrolled": true
   },
   "outputs": [
    {
     "name": "stdout",
     "output_type": "stream",
     "text": [
      "\n",
      "Testing ------------\n",
      "\n",
      "test loss:  0.0429210290312767\n",
      "\n",
      "test f1_score:  0.9827127456665039\n"
     ]
    }
   ],
   "source": [
    "print('\\nTesting ------------')\n",
    "loss, accuracy, f1_score, precision, recall = model3.evaluate(val_x, val_y, verbose=0)\n",
    "print('\\ntest loss: ', loss)\n",
    "print('\\ntest f1_score: ', f1_score)#0.0.9936835169792175"
   ]
  },
  {
   "cell_type": "code",
   "execution_count": 317,
   "metadata": {},
   "outputs": [
    {
     "data": {
      "text/plain": [
       "(2000, 16)"
      ]
     },
     "execution_count": 317,
     "metadata": {},
     "output_type": "execute_result"
    }
   ],
   "source": [
    "test.shape"
   ]
  },
  {
   "cell_type": "code",
   "execution_count": 318,
   "metadata": {},
   "outputs": [],
   "source": [
    "for i in range(np.shape(test)[1]):\n",
    "    mean = meanlist[i]\n",
    "    std  = stdlist[i]\n",
    "    for j in range(np.shape(test)[0]):\n",
    "        test[j][i] = (test[j][i]-mean)/std"
   ]
  },
  {
   "cell_type": "code",
   "execution_count": 319,
   "metadata": {},
   "outputs": [
    {
     "data": {
      "text/plain": [
       "20488.963"
      ]
     },
     "execution_count": 319,
     "metadata": {},
     "output_type": "execute_result"
    }
   ],
   "source": [
    "np.sum(test[:,1])"
   ]
  },
  {
   "cell_type": "code",
   "execution_count": 320,
   "metadata": {},
   "outputs": [],
   "source": [
    "prediction = model3.predict(test)"
   ]
  },
  {
   "cell_type": "code",
   "execution_count": 321,
   "metadata": {},
   "outputs": [
    {
     "data": {
      "text/plain": [
       "3"
      ]
     },
     "execution_count": 321,
     "metadata": {},
     "output_type": "execute_result"
    }
   ],
   "source": [
    "np.argmax(prediction[0], axis=0)"
   ]
  },
  {
   "cell_type": "code",
   "execution_count": 322,
   "metadata": {},
   "outputs": [],
   "source": [
    "alph = ['A','B','C','D','E','F']"
   ]
  },
  {
   "cell_type": "code",
   "execution_count": 323,
   "metadata": {},
   "outputs": [],
   "source": [
    "prediction_final=[]"
   ]
  },
  {
   "cell_type": "code",
   "execution_count": 324,
   "metadata": {},
   "outputs": [],
   "source": [
    "for i in range(np.shape(prediction)[0]):\n",
    "    index = np.argmax(prediction[i], axis=0)\n",
    "    prediction_final.append(alph[index])"
   ]
  },
  {
   "cell_type": "code",
   "execution_count": 60,
   "metadata": {},
   "outputs": [],
   "source": [
    "# prediction_final"
   ]
  },
  {
   "cell_type": "code",
   "execution_count": 326,
   "metadata": {},
   "outputs": [],
   "source": [
    "tt = dict([('id',np.array(range(1,2001))),('Predicted',prediction_final)])"
   ]
  },
  {
   "cell_type": "code",
   "execution_count": 327,
   "metadata": {},
   "outputs": [],
   "source": [
    "tt = pd.DataFrame(tt)"
   ]
  },
  {
   "cell_type": "code",
   "execution_count": 328,
   "metadata": {},
   "outputs": [],
   "source": [
    "tt.to_csv('test.csv',index=False)"
   ]
  },
  {
   "cell_type": "code",
   "execution_count": 20,
   "metadata": {},
   "outputs": [],
   "source": [
    "## sklearn"
   ]
  },
  {
   "cell_type": "code",
   "execution_count": 79,
   "metadata": {},
   "outputs": [
    {
     "data": {
      "text/plain": [
       "0.971"
      ]
     },
     "execution_count": 79,
     "metadata": {},
     "output_type": "execute_result"
    }
   ],
   "source": [
    "from sklearn.neural_network import MLPClassifier\n",
    "from sklearn.datasets import make_classification\n",
    "\n",
    "clf = MLPClassifier(random_state=1,hidden_layer_sizes=(train_feature_len,train_feature_len*2,train_feature_len*3,train_feature_len*2,train_feature_len,75),learning_rate_init=0.0001, max_iter=1000,learning_rate = 'adaptive').fit(train_x, train_y)\n",
    "clf.predict_proba(val_x)\n",
    "\n",
    "clf.predict(val_x)\n",
    "\n",
    "clf.score(val_x,val_y)"
   ]
  },
  {
   "cell_type": "code",
   "execution_count": 52,
   "metadata": {},
   "outputs": [],
   "source": [
    "prediction = clf.predict(test)"
   ]
  },
  {
   "cell_type": "code",
   "execution_count": null,
   "metadata": {},
   "outputs": [],
   "source": [
    "for i in range(np.shape(test)[1]):\n",
    "    mean = meanlist[i]\n",
    "    std  = stdlist[i]\n",
    "    for j in range(np.shape(test)[0]):\n",
    "        test[j][i] = (test[j][i]-mean)/std"
   ]
  },
  {
   "cell_type": "code",
   "execution_count": 53,
   "metadata": {},
   "outputs": [
    {
     "data": {
      "text/plain": [
       "0"
      ]
     },
     "execution_count": 53,
     "metadata": {},
     "output_type": "execute_result"
    }
   ],
   "source": [
    "np.argmax(prediction[0], axis=0)"
   ]
  },
  {
   "cell_type": "code",
   "execution_count": 54,
   "metadata": {},
   "outputs": [],
   "source": [
    "alph = ['A','B','C','D','E','F']"
   ]
  },
  {
   "cell_type": "code",
   "execution_count": 56,
   "metadata": {},
   "outputs": [],
   "source": [
    "prediction_final=[]\n",
    "for i in range(np.shape(prediction)[0]):\n",
    "    index = np.argmax(prediction[i], axis=0)\n",
    "    prediction_final.append(alph[index])"
   ]
  },
  {
   "cell_type": "code",
   "execution_count": 57,
   "metadata": {},
   "outputs": [],
   "source": [
    "tt = dict([('id',np.array(range(1,2001))),('Predicted',prediction_final)])"
   ]
  },
  {
   "cell_type": "code",
   "execution_count": 58,
   "metadata": {},
   "outputs": [],
   "source": [
    "tt = pd.DataFrame(tt)"
   ]
  },
  {
   "cell_type": "code",
   "execution_count": 59,
   "metadata": {},
   "outputs": [],
   "source": [
    "tt.to_csv('test.csv',index=False)"
   ]
  },
  {
   "cell_type": "code",
   "execution_count": null,
   "metadata": {},
   "outputs": [],
   "source": []
  }
 ],
 "metadata": {
  "kernelspec": {
   "display_name": "Python 3",
   "language": "python",
   "name": "python3"
  },
  "language_info": {
   "codemirror_mode": {
    "name": "ipython",
    "version": 3
   },
   "file_extension": ".py",
   "mimetype": "text/x-python",
   "name": "python",
   "nbconvert_exporter": "python",
   "pygments_lexer": "ipython3",
   "version": "3.7.4"
  }
 },
 "nbformat": 4,
 "nbformat_minor": 2
}
